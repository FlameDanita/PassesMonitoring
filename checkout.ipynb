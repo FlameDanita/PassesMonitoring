{
 "cells": [
  {
   "cell_type": "code",
   "execution_count": 26,
   "metadata": {},
   "outputs": [],
   "source": [
    "import pandas as pd #pip install pandas\n",
    "import xlwt #pip install xlwt\n",
    "from openpyxl import load_workbook #pip install openpyxldd\n",
    "from tqdm import tqdm\n",
    "import datetime"
   ]
  },
  {
   "cell_type": "code",
   "execution_count": 33,
   "metadata": {},
   "outputs": [
    {
     "name": "stdout",
     "output_type": "stream",
     "text": [
      "['Сотрудники', 'РАО', 'Прочие']\n"
     ]
    }
   ],
   "source": [
    "rb = load_workbook('./workedjournal.xlsx')\n",
    "wb = load_workbook('./DataBase.xlsx')\n",
    "print(wb.sheetnames)"
   ]
  },
  {
   "cell_type": "code",
   "execution_count": 52,
   "metadata": {},
   "outputs": [],
   "source": [
    "def refresh_names():\n",
    "    not_RAO_array = ['АРХПОИНТ', 'Библиотечно-информационный отдел', 'Информационный центр \"Библиотека имени К.Д.Ушинского\"',\n",
    "                 'Сектор библиотечно-информационного обслуживания РАО', 'Сектор комплектования и обработки фонда', 'Сектор обслуживания читателей',\n",
    "                 'Сектор хранения фонда']\n",
    "    work_sheet_wb, work_sheet_wb_RAO, work_sheet_wb_other = wb['Сотрудники'], wb['РАО'], wb['Прочие']\n",
    "    work_sheet_rb = rb['visitorReport']\n",
    "    flag = False\n",
    "    RAO_row, oth_row = 2, 2\n",
    "    for rows in work_sheet_rb.iter_rows(values_only=True):\n",
    "        if flag and rows[0][0] != '2':\n",
    "            if rows[3] in not_RAO_array:\n",
    "                work_sheet_wb_other.cell(row=oth_row, column=1).value = rows[0]\n",
    "                work_sheet_wb_other.cell(row=oth_row, column=2).value = rows[3]\n",
    "                oth_row += 1\n",
    "            else:\n",
    "                work_sheet_wb_RAO.cell(row=RAO_row, column=1).value = rows[0]\n",
    "                work_sheet_wb_RAO.cell(row=RAO_row, column=2).value = rows[3]\n",
    "                RAO_row += 1\n",
    "        if rows[0] == 'Сотрудник':\n",
    "            flag = True"
   ]
  },
  {
   "cell_type": "code",
   "execution_count": 49,
   "metadata": {},
   "outputs": [],
   "source": [
    "#refresh_names() # Только при добавлении новых имён в БД"
   ]
  },
  {
   "cell_type": "code",
   "execution_count": 51,
   "metadata": {},
   "outputs": [],
   "source": [
    "work_sheet_wb = wb['Сотрудники']\n",
    "work_sheet_wb_RAO = wb['РАО']\n",
    "work_sheet_wb_other = wb['Прочие']\n",
    "work_sheet_rb = rb['visitorReport']"
   ]
  },
  {
   "cell_type": "code",
   "execution_count": 50,
   "metadata": {},
   "outputs": [],
   "source": [
    "wb.save('./DataBase.xlsx')"
   ]
  },
  {
   "cell_type": "code",
   "execution_count": null,
   "metadata": {},
   "outputs": [],
   "source": []
  },
  {
   "cell_type": "code",
   "execution_count": null,
   "metadata": {},
   "outputs": [],
   "source": []
  }
 ],
 "metadata": {
  "kernelspec": {
   "display_name": "Python 3.10.5 64-bit (system)",
   "language": "python",
   "name": "python3"
  },
  "language_info": {
   "codemirror_mode": {
    "name": "ipython",
    "version": 3
   },
   "file_extension": ".py",
   "mimetype": "text/x-python",
   "name": "python",
   "nbconvert_exporter": "python",
   "pygments_lexer": "ipython3",
   "version": "3.10.5"
  },
  "orig_nbformat": 4,
  "vscode": {
   "interpreter": {
    "hash": "fd9daab5493c977fd6493be97d3e1f014be2bb979bfc5090355e6764feda3d70"
   }
  }
 },
 "nbformat": 4,
 "nbformat_minor": 2
}
