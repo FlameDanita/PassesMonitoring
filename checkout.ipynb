{
 "cells": [
  {
   "cell_type": "code",
   "execution_count": 1,
   "metadata": {},
   "outputs": [],
   "source": [
    "import pandas as pd #pip install pandas\n",
    "import xlwt #pip install xlwt\n",
    "from openpyxl import load_workbook #pip install openpyxldd\n",
    "from tqdm import tqdm\n",
    "import datetime"
   ]
  },
  {
   "cell_type": "code",
   "execution_count": 2,
   "metadata": {},
   "outputs": [
    {
     "name": "stdout",
     "output_type": "stream",
     "text": [
      "['Сотрудники', 'РАО', 'Отделы', 'Прочие']\n"
     ]
    }
   ],
   "source": [
    "rb = load_workbook('./workedjournal.xlsx')\n",
    "wb = load_workbook('./DataBase.xlsx')\n",
    "print(wb.sheetnames)"
   ]
  },
  {
   "cell_type": "code",
   "execution_count": 3,
   "metadata": {},
   "outputs": [],
   "source": [
    "def refresh_names():\n",
    "    not_RAO_array = ['АРХПОИНТ', 'Библиотечно-информационный отдел', 'Информационный центр \"Библиотека имени К.Д.Ушинского\"',\n",
    "                 'Сектор библиотечно-информационного обслуживания РАО', 'Сектор комплектования и обработки фонда', 'Сектор обслуживания читателей',\n",
    "                 'Сектор хранения фонда']\n",
    "    work_sheet_wb, work_sheet_wb_RAO, work_sheet_wb_other = wb['Сотрудники'], wb['РАО'], wb['Прочие']\n",
    "    work_sheet_rb = rb['visitorReport']\n",
    "    flag = False\n",
    "    RAO_row, oth_row = 2, 2\n",
    "    for rows in work_sheet_rb.iter_rows(values_only=True):\n",
    "        if flag and rows[0][0] != '2':\n",
    "            if rows[3] in not_RAO_array:\n",
    "                work_sheet_wb_other.cell(row=oth_row, column=1).value = rows[0]\n",
    "                work_sheet_wb_other.cell(row=oth_row, column=2).value = rows[3]\n",
    "                oth_row += 1\n",
    "            else:\n",
    "                work_sheet_wb_RAO.cell(row=RAO_row, column=1).value = rows[0]\n",
    "                work_sheet_wb_RAO.cell(row=RAO_row, column=2).value = rows[3]\n",
    "                RAO_row += 1\n",
    "        if rows[0] == 'Сотрудник':\n",
    "            flag = True"
   ]
  },
  {
   "cell_type": "code",
   "execution_count": 4,
   "metadata": {},
   "outputs": [],
   "source": [
    "# refresh_names() # Только при добавлении новых имён в БД\n",
    "# wb.save('./DataBase.xlsx')"
   ]
  },
  {
   "cell_type": "code",
   "execution_count": 7,
   "metadata": {},
   "outputs": [],
   "source": [
    "work_sheet_wb = wb['Сотрудники']\n",
    "work_sheet_wb_RAO = wb['РАО']\n",
    "work_sheet_wb_main = wb['Отделы']\n",
    "work_sheet_wb_other = wb['Прочие']\n",
    "work_sheet_rb = rb['visitorReport']"
   ]
  },
  {
   "cell_type": "code",
   "execution_count": null,
   "metadata": {},
   "outputs": [],
   "source": [
    "def search_data_by_name(name):\n",
    "    file = \n",
    "    worker_dict = {\n",
    "    'График работы': str(),\n",
    "    'Присутствие': str(),\n",
    "    'Рабочее время': str(),\n",
    "    'Отсутствие': str(),\n",
    "    'Переработка': str(),\n",
    "    'Баланс отработанного времени': str()\n",
    "}"
   ]
  },
  {
   "cell_type": "code",
   "execution_count": 10,
   "metadata": {},
   "outputs": [
    {
     "ename": "NameError",
     "evalue": "name 'ыек' is not defined",
     "output_type": "error",
     "traceback": [
      "\u001b[1;31m---------------------------------------------------------------------------\u001b[0m",
      "\u001b[1;31mNameError\u001b[0m                                 Traceback (most recent call last)",
      "\u001b[1;32mc:\\Users\\Никита Широкопетлев\\Documents\\GitHub\\PassesMonitoring\\checkout.ipynb Ячейка 6\u001b[0m in \u001b[0;36m<cell line: 3>\u001b[1;34m()\u001b[0m\n\u001b[0;32m      <a href='vscode-notebook-cell:/c%3A/Users/%D0%9D%D0%B8%D0%BA%D0%B8%D1%82%D0%B0%20%D0%A8%D0%B8%D1%80%D0%BE%D0%BA%D0%BE%D0%BF%D0%B5%D1%82%D0%BB%D0%B5%D0%B2/Documents/GitHub/PassesMonitoring/checkout.ipynb#W5sZmlsZQ%3D%3D?line=0'>1</a>\u001b[0m n_row \u001b[39m=\u001b[39m \u001b[39m0\u001b[39m\n\u001b[0;32m      <a href='vscode-notebook-cell:/c%3A/Users/%D0%9D%D0%B8%D0%BA%D0%B8%D1%82%D0%B0%20%D0%A8%D0%B8%D1%80%D0%BE%D0%BA%D0%BE%D0%BF%D0%B5%D1%82%D0%BB%D0%B5%D0%B2/Documents/GitHub/PassesMonitoring/checkout.ipynb#W5sZmlsZQ%3D%3D?line=1'>2</a>\u001b[0m worker_dict \u001b[39m=\u001b[39m {\n\u001b[1;32m----> <a href='vscode-notebook-cell:/c%3A/Users/%D0%9D%D0%B8%D0%BA%D0%B8%D1%82%D0%B0%20%D0%A8%D0%B8%D1%80%D0%BE%D0%BA%D0%BE%D0%BF%D0%B5%D1%82%D0%BB%D0%B5%D0%B2/Documents/GitHub/PassesMonitoring/checkout.ipynb#W5sZmlsZQ%3D%3D?line=2'>3</a>\u001b[0m     \u001b[39m'\u001b[39m\u001b[39mГрафик работы\u001b[39m\u001b[39m'\u001b[39m: ыек\n\u001b[0;32m      <a href='vscode-notebook-cell:/c%3A/Users/%D0%9D%D0%B8%D0%BA%D0%B8%D1%82%D0%B0%20%D0%A8%D0%B8%D1%80%D0%BE%D0%BA%D0%BE%D0%BF%D0%B5%D1%82%D0%BB%D0%B5%D0%B2/Documents/GitHub/PassesMonitoring/checkout.ipynb#W5sZmlsZQ%3D%3D?line=3'>4</a>\u001b[0m }\n\u001b[0;32m      <a href='vscode-notebook-cell:/c%3A/Users/%D0%9D%D0%B8%D0%BA%D0%B8%D1%82%D0%B0%20%D0%A8%D0%B8%D1%80%D0%BE%D0%BA%D0%BE%D0%BF%D0%B5%D1%82%D0%BB%D0%B5%D0%B2/Documents/GitHub/PassesMonitoring/checkout.ipynb#W5sZmlsZQ%3D%3D?line=4'>5</a>\u001b[0m \u001b[39mfor\u001b[39;00m rows \u001b[39min\u001b[39;00m work_sheet_wb_main\u001b[39m.\u001b[39miter_rows(values_only\u001b[39m=\u001b[39m\u001b[39mTrue\u001b[39;00m):\n\u001b[0;32m      <a href='vscode-notebook-cell:/c%3A/Users/%D0%9D%D0%B8%D0%BA%D0%B8%D1%82%D0%B0%20%D0%A8%D0%B8%D1%80%D0%BE%D0%BA%D0%BE%D0%BF%D0%B5%D1%82%D0%BB%D0%B5%D0%B2/Documents/GitHub/PassesMonitoring/checkout.ipynb#W5sZmlsZQ%3D%3D?line=5'>6</a>\u001b[0m     n_row \u001b[39m+\u001b[39m\u001b[39m=\u001b[39m \u001b[39m1\u001b[39m\n",
      "\u001b[1;31mNameError\u001b[0m: name 'ыек' is not defined"
     ]
    }
   ],
   "source": [
    "n_row = 0\n",
    "title_dict = {\n",
    "    'График работы': 3,\n",
    "    'Присутствие': 4,\n",
    "    'Рабочее время': 5,\n",
    "    'Отсутствие': 6,\n",
    "    'Переработка': 7,\n",
    "    'Баланс отработанного времени': 8\n",
    "}\n",
    "\n",
    "for rows in work_sheet_wb_main.iter_rows(values_only=True):\n",
    "    n_row += 1\n",
    "    if rows[1]: # Не пустая строка\n",
    "        worker_dict = search_data_by_name(rows[1])\n",
    "        for key, value in worker_dict:\n",
    "            work_sheet_wb_main.cell(row=n_row, column=title_dict[key]).value = value"
   ]
  },
  {
   "cell_type": "code",
   "execution_count": 9,
   "metadata": {},
   "outputs": [],
   "source": [
    "wb.save('./DataBase.xlsx')"
   ]
  },
  {
   "cell_type": "code",
   "execution_count": 11,
   "metadata": {},
   "outputs": [],
   "source": [
    "worker_dict = {\n",
    "    'График работы': str(),\n",
    "    'Присутствие': str(),\n",
    "    'Рабочее время': str(),\n",
    "    'Отсутствие': str(),\n",
    "    'Переработка': str(),\n",
    "    'Баланс отработанного времени': str()\n",
    "}"
   ]
  },
  {
   "cell_type": "code",
   "execution_count": 14,
   "metadata": {},
   "outputs": [
    {
     "data": {
      "text/plain": [
       "'dasdas'"
      ]
     },
     "execution_count": 14,
     "metadata": {},
     "output_type": "execute_result"
    }
   ],
   "source": [
    "worker_dict['График работы'] = 'dasdas'\n",
    "worker_dict['График работы']"
   ]
  },
  {
   "cell_type": "code",
   "execution_count": 1,
   "metadata": {},
   "outputs": [],
   "source": [
    "RAO_structure = {\n",
    "    'Отдел Информатизации' : [],\n",
    "    'РУКОВОДСТВО': [],\n",
    "    'ОТДЕЛЕНИЕ ФИЛОСОФИИ ОБРАЗОВАНИЯ И ТЕОРЕТИЧЕСКОЙ ПЕДАГОГИКИ': [],\n",
    "    'ОТДЕЛЕНИЕ ПСИХОЛОГИИ И ВОЗРАСТНОЙ ФИЗИОЛОГИИ': [],\n",
    "    'ОТДЕЛЕНИЕ ОБЩЕГО СРЕДНЕГО ОБРАЗОВАНИЯ': [],\n",
    "    'ОТДЕЛЕНИЕ ПРОФЕССИОНАЛЬНОГО ОБРАЗОВАНИЯ': [],\n",
    "    'ОТДЕЛЕНИЕ ОБРАЗОВАНИЯ И КУЛЬТУРЫ': [],\n",
    "    'ОТДЕЛЕНИЕ РОССИЙСКОЙ СЛОВЕСНОСТИ': [],\n",
    "    'СЕКРИТАРИАТ ПОПЕЧИТЕЛЬСКОГО СОВЕТА': [],\n",
    "    'УПРАВЛЕНИЕ СЕКРИТАРИАТА И ПРОТОКОЛА': [],\n",
    "    'ФЕДЕРАЛЬНЫЙ РЕСУРСНЫЙ ЦЕНТР ПСИХОЛОГИЧЕСКОЙ СЛУЖБЫ В СИСТЕМЕ ВЫСШЕГО ОБРАЗОВАНИЯ': [],\n",
    "    'ЦЕНТР РАЗВИТИЯ ОБРАЗОВАНИЯ': [\n",
    "        'ЛАБОРАТОРИЯ НАУЧНЫХ ПОДХОДОВ В УПРАВЛЕНИИ ОБРАЗОВАТЕЛЬНЫМИ СИСТЕМАМИ',\n",
    "        'ЛАБОРАТОРИЯ РАЗВИТИЯ СОДЕРЖАНИЯ ОБРАЗОВАНИЯ',\n",
    "        'ЛАБОРАТОРИЯ СОВРЕМЕННЫХ ФОРМ И МЕТОДОВ ОБУЧЕНИЯ',\n",
    "        'ЛАБОРАТОРИЯ АНТРОПОЛОГИИ И ПЕДАГОГИЧЕСКОЙ КОМПАРАТИВИСТИКИ',\n",
    "        'ЛАБОРАТОРИЯ СОЦИОЛОГИЧЕСКИХ ИССЛЕДОВАНИЙ В ОБРАЗОВАНИИ',\n",
    "        'ЛАБОРАТИРИЯ РАЗВИТИЯ ЦИФРОВОЙ ОБРАЗОВАТЕЛЬНОЙ СРЕДЫ'],\n",
    "    'ЦЕНТР РАЗВИТИЯ ВЫСШЕГО И СРЕДНЕГО ПРОФЕССИОНАЛЬНОГО ОБРАЗОВАНИЯ': [\n",
    "        'ЛАБОРАТОРИЯ РАЗВИТИЯ СРЕДНЕГО ПРОФЕССИОНАЛЬНОГО ОБРАЗОВАНИЯ',\n",
    "        'ЛАБОРАТОРИЯ РАЗВИТИЯ ВЫСШЕГО ПРОФЕССИОНАЛЬНОГО ОБРАЗОВАНИЯ',\n",
    "        'ЛАБОРАТОРИЯ КООРДИНАЦИИ И МОНИТОРИНГА ДИССЕРТАЦИОННЫХ ИССЛЕДОВАНИЙ ПО ПЕДАГОГИЧЕСКИМ И ПСИХОЛОГИЧЕСКИМ НАУКАМ'\n",
    "    ],\n",
    "    'ЦЕНТР ОБРАЗОВАТЕЛЬНОГО ЗАКОНОДАТЕЛЬСТВА И ПРОБЛЕМ ПРАВОПРИМЕНЕНИЯ': [],\n",
    "    'УЧЕБНЫЙ ЦЕНТР': [],\n",
    "    'ЦЕНТР ДУХОВНОГО-НРАВСТВЕННОГО ВОСПИТАНИЯ И ТЕОЛОГИИ': [],\n",
    "    'ЦЕНТР РАЗВИТИЯ ПЕДАГОГИЧЕСКОГО ОБРАЗОВАНИЯ': [\n",
    "        'Лаборатория продвижения и пиар сопровождения педагогического образования'\n",
    "    ],\n",
    "    'ЦЕНТР РАЗВИТИЯ ИНКЛЮЗИВНОГО ОБРАЗОВАНИЯ': [\n",
    "        'Лаборатория обучающихся с особыми образовательными потребностями',\n",
    "        'Лаборатория содержания и форм подготовки специалистов с детьми с ОВЗ и инвалидностью'\n",
    "    ],\n",
    "    'ЦЕНТР ВОСПИТАНИЯ И РАЗВИТИЯ ЛИЧНОСТИ': [\n",
    "        'ЛАБОРАТОРИЯ РАЗВИТИЯ ПРОСВЕТИТЕЛЬНОЙ ДЕЯТЕЛЬНОСТИ',\n",
    "        'ЛАБОРАТОРИЯ ГУМАНИТАРНОГО ОБРАЗОВАНИЯ И ФОРМИРОВАНИЯ МИРОВОЗРЕНИЯ',\n",
    "        'ЛАБОРАТОРИЯ СОВРЕМЕННЫХ ФОРМ И МЕТОДОВ ВОСПИТАНИЯ',\n",
    "        'ЛАБОРАТОРИЯ СОВРЕМЕННЫХ ФОРМ И МЕТОДОВ ПРОФЕССИОНАЛЬНОГО САМООПРЕДЕЛЕНИЯ И ПРОФОРИЕНТАЦИИ',\n",
    "        'Лаборатория научных основ изучения личности развития ребенка',\n",
    "        'Лаборатория развития содержания воспитания и социализации',\n",
    "        'Лаборатория психологического сопровождения развития личности в образовательном процессе'\n",
    "    ],\n",
    "    'ЦЕНТР РОДНЫХ ЯЗЫКОВ И КУЛЬТУР НАРОДОВ РФ': [],\n",
    "    'ЦЕНТР РУССКОГО ЯЗЫКА И СЛАВИСТИКИ': [],\n",
    "    'ЦЕНТР ЭКСПЕРТИЗЫ В ОБРАЗОВАНИИ': [],\n",
    "    'ИНФОРМАЦИОННЫЙ ЦЕНТР \"БИБЛИОТЕКА им. К.Д. УШИНСКОГО\"': [\n",
    "        'МЕТОДИЧЕСКИЙ ОТДЕЛ'\n",
    "    ],\n",
    "    'УПРАВЛЕНИЕ КООРДИНАЦИИ НАУЧНЫХ ИССЛЕДОВАНИЙ И ПОДГОТОВКИ КАДРОВ ВЫСШЕЙ КВАЛИФИКАЦИИ': [\n",
    "        'ОТДЕЛ КООРДИНАЦИИ НАУЧНЫХ ИССЛЕДОВАНИЙ',\n",
    "        'ОТДЕЛ КООРДИНАЦИИ ДЕЯТЕЛЬНОСТИ ПО ПОДГОТОВКЕ КАДРОВ ВЫСШЕЙ КВАЛИФИКАЦИИ',\n",
    "        'ОТДЕЛ ПО РАБОТЕ С ПРОЕКТАМИ',\n",
    "        'Отдел редакционно - издательской работы'\n",
    "    ],\n",
    "    'УПРАВЛЕНИЕ МЕЖДУНАРОДНОГО СОТРУДНИЧЕСТВА, СВЯЗЕЙ С ОБЩЕСТВЕННОСТЬЮ И СМИ': [\n",
    "        'ОТДЕЛ МЕЖДУНАРОГО СОТРУДНИЧЕСТВА',\n",
    "        'ОТДЕЛ ПО СВЯЗЯМ С ОБЩЕСТВЕННОСТЬЮ И СМИ'\n",
    "    ],\n",
    "    'ДЕПАРТАМЕНТ УПРАВЛЕНИЯ ДЕЛАМИ РАО': [\n",
    "        'ОТДЕЛ КАДРОВ И ОХРАНЫ ТРУДА'\n",
    "    ],\n",
    "    'УПРАВЛЕНИЕ ПРАВОВОГО ОБЕСПЕЧЕНИЯ И ДЕЛОПРОИЗВОДСТВА': [\n",
    "        'ОТДЕЛ ПРАВОВОГО ОБЕСПЕЧЕНИЯ И ИМУЩЕСТВЕННЫХ ОТНОШЕНИЙ',\n",
    "        'ОТДЕЛ ДЕЛОПРОИЗВОДСТВА',\n",
    "        'СЕКТОР НАУЧНОГО АРХИВА'\n",
    "    ],\n",
    "    'УПРАВЛЕНИЕ ФИНАНСОВОГО ПЛАНИРОВАНИЯ И БУХГАЛТЕРСКОГО УЧЕТА': [\n",
    "        'ПЛАНОВЫЙ ОТДЕЛ',\n",
    "        'ОТДЕЛ БУХГАЛТЕРСКОГО УЧЕТА И ОТЧЕТНОСТИ',\n",
    "        'КОНТРАКТНАЯ СЛУЖБА',\n",
    "        'ХОЗЯЙСТВЕННЫЙ ОТДЕЛ'\n",
    "    ]\n",
    "}"
   ]
  },
  {
   "cell_type": "code",
   "execution_count": null,
   "metadata": {},
   "outputs": [],
   "source": []
  }
 ],
 "metadata": {
  "kernelspec": {
   "display_name": "Python 3.10.5 64-bit (system)",
   "language": "python",
   "name": "python3"
  },
  "language_info": {
   "codemirror_mode": {
    "name": "ipython",
    "version": 3
   },
   "file_extension": ".py",
   "mimetype": "text/x-python",
   "name": "python",
   "nbconvert_exporter": "python",
   "pygments_lexer": "ipython3",
   "version": "3.10.5"
  },
  "orig_nbformat": 4,
  "vscode": {
   "interpreter": {
    "hash": "fd9daab5493c977fd6493be97d3e1f014be2bb979bfc5090355e6764feda3d70"
   }
  }
 },
 "nbformat": 4,
 "nbformat_minor": 2
}
